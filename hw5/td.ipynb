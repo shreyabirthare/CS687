{
 "cells": [
  {
   "cell_type": "code",
   "execution_count": 287,
   "metadata": {},
   "outputs": [],
   "source": [
    "import numpy as np"
   ]
  },
  {
   "cell_type": "code",
   "execution_count": 288,
   "metadata": {},
   "outputs": [],
   "source": [
    "GRID_SIZE = 5\n",
    "START_STATE = (0, 0)\n",
    "FOOD_STATE = (4, 4)\n",
    "ACTIONS = [(0, -1), (0, 1), (-1, 0), (1, 0)]\n",
    "FORBIDDEN_FURNITURES = [(2, 1), (2, 2), (2, 3), (3, 2)]\n",
    "MONSTERS = [(0, 3), (4, 1)]\n",
    "GAMMA = 0.925\n",
    "MAX_ITERATIONS = 50\n",
    "DELTA = 0.0005\n",
    "ALPHA = 0.05\n",
    "p={}\n",
    "p['specified'] = 0.7\n",
    "p['right'] = 0.12\n",
    "p['left'] = 0.12\n",
    "p['sleepy'] = 0.06"
   ]
  },
  {
   "cell_type": "code",
   "execution_count": 289,
   "metadata": {},
   "outputs": [],
   "source": [
    "value_iteration_v = np.array([\n",
    "    [2.6638, 2.9969, 2.8117, 3.6671, 4.8497],\n",
    "    [2.9713, 3.5101, 4.0819, 4.8497, 7.1648],\n",
    "    [2.5936, 0.0,    0.0,    0.0,    8.4687],\n",
    "    [2.0992, 1.0849, 0.0,    8.6097, 9.5269],\n",
    "    [1.0849, 4.9465, 8.4687, 9.5269, 0.0]\n",
    "])"
   ]
  },
  {
   "cell_type": "code",
   "execution_count": 290,
   "metadata": {},
   "outputs": [],
   "source": [
    "policy_mat = [\n",
    "    [(0, 1), (1, 0), (0, -1), (1, 0), (1, 0)],\n",
    "    [(0, 1), (0, 1), (0, 1), (0, 1), (1, 0)],   \n",
    "    [(-1, 0), None, None, None, (1, 0)],\n",
    "    [(-1, 0), (0, -1), None, (0, 1), (1, 0)],\n",
    "    [(-1, 0), (0, 1), (0, 1), (0, 1), None]\n",
    "]"
   ]
  },
  {
   "cell_type": "code",
   "execution_count": 291,
   "metadata": {},
   "outputs": [],
   "source": [
    "def is_valid_state(i, j):\n",
    "    if i < 0 or j < 0 or i >= GRID_SIZE or j >= GRID_SIZE:\n",
    "        return False\n",
    "    if (i, j) in FORBIDDEN_FURNITURES:\n",
    "        return False\n",
    "    return True"
   ]
  },
  {
   "cell_type": "code",
   "execution_count": 292,
   "metadata": {},
   "outputs": [],
   "source": [
    "def random_initial_state():\n",
    "    while True:\n",
    "        state = (np.random.randint(GRID_SIZE), np.random.randint(GRID_SIZE))\n",
    "        if is_valid_state(*state):\n",
    "            return state"
   ]
  },
  {
   "cell_type": "code",
   "execution_count": 293,
   "metadata": {},
   "outputs": [],
   "source": [
    "def getReward(state):\n",
    "    if state == FOOD_STATE:\n",
    "        return 10\n",
    "    elif state in MONSTERS:\n",
    "        return -8\n",
    "    else:\n",
    "        return -0.05"
   ]
  },
  {
   "cell_type": "code",
   "execution_count": 294,
   "metadata": {},
   "outputs": [],
   "source": [
    "def getTransitionProbabilities(action, p):\n",
    "    if action == (0, -1):\n",
    "        specified = (0, -1)\n",
    "        left = (1, 0)\n",
    "        right = (-1, 0)\n",
    "    elif action == (0, 1):\n",
    "        specified = (0, 1)\n",
    "        left = (-1, 0)\n",
    "        right = (1, 0)\n",
    "    elif action == (-1, 0):\n",
    "        specified = (-1, 0)\n",
    "        left = (0, -1)\n",
    "        right = (0, 1)\n",
    "    else:\n",
    "        specified = (1, 0)\n",
    "        left = (0, 1)\n",
    "        right = (0, -1)\n",
    "\n",
    "    sleepy = (0, 0)\n",
    "    return [(specified, p['specified']), (left, p['left']), (right, p['right']), (sleepy, p['sleepy'])]"
   ]
  },
  {
   "cell_type": "code",
   "execution_count": 295,
   "metadata": {},
   "outputs": [],
   "source": [
    "def td_zero():\n",
    "    all_value_funcs = []\n",
    "    episode_counts = []\n",
    "\n",
    "    for _ in range(50):\n",
    "        value_func = np.zeros((GRID_SIZE, GRID_SIZE))\n",
    "        count = 0\n",
    "\n",
    "        while True:\n",
    "            count += 1\n",
    "            # print(count)\n",
    "            orig_value_func = value_func.copy()\n",
    "            max_norm_diff = 0\n",
    "\n",
    "            current_state = random_initial_state()\n",
    "            while(current_state) == (4,4):\n",
    "                current_state = random_initial_state()\n",
    "\n",
    "            while current_state != FOOD_STATE:\n",
    "                i, j = current_state\n",
    "\n",
    "                action = policy_mat[i][j]\n",
    "                transitions = getTransitionProbabilities(action, p)\n",
    "\n",
    "                moves, probs = zip(*transitions)\n",
    "                chosen_move = np.random.choice(len(moves), p=probs)\n",
    "                move = moves[chosen_move]\n",
    "                next_state = (i + move[0], j + move[1])\n",
    "\n",
    "                if not is_valid_state(*next_state):\n",
    "                    next_state = current_state\n",
    "\n",
    "                reward = getReward(next_state)\n",
    "                td_target = reward + (GAMMA * value_func[next_state])\n",
    "                td_error = td_target - value_func[current_state]\n",
    "                value_func[current_state] = value_func[current_state]+ (ALPHA * td_error)\n",
    "\n",
    "                current_state = next_state\n",
    "            # print(\"value function: \", value_func)\n",
    "            # print(\"orig value function: \", orig_value_func)\n",
    "            max_norm_diff = np.max(np.abs(value_func - orig_value_func))\n",
    "            if max_norm_diff < DELTA:\n",
    "                break\n",
    "        # print(\"value function: \", value_func)\n",
    "        all_value_funcs.append(value_func)\n",
    "        episode_counts.append(count)\n",
    "\n",
    "    return all_value_funcs, episode_counts"
   ]
  },
  {
   "cell_type": "code",
   "execution_count": 296,
   "metadata": {},
   "outputs": [],
   "source": [
    "def calculate_stats(all_value_funcs, episode_counts):\n",
    "    avg_value_func = np.mean(all_value_funcs, axis=0)\n",
    "    avg_episodes = np.mean(episode_counts)\n",
    "    std_episodes = np.std(episode_counts)\n",
    "    max_norm_diff_final = np.max(np.abs(avg_value_func - value_iteration_v))\n",
    "    return avg_value_func, avg_episodes, std_episodes, max_norm_diff_final"
   ]
  },
  {
   "cell_type": "code",
   "execution_count": 297,
   "metadata": {},
   "outputs": [
    {
     "name": "stdout",
     "output_type": "stream",
     "text": [
      "******** TD(0) Results ********\n",
      "Step size (alpha): 0.05\n",
      "Average value function:\n",
      "[[2.57689945 2.94936797 2.73430937 3.34233355 4.62226352]\n",
      " [2.92017038 3.47198838 4.05922131 4.77991045 7.20378061]\n",
      " [2.51610129 0.         0.         0.         8.43594195]\n",
      " [1.99876111 0.85255582 0.         8.49809292 9.41378751]\n",
      " [0.87748029 4.72251056 8.34175815 9.37925267 0.        ]]\n",
      "Max-norm difference from optimal value function: 0.324766452910056\n",
      "Average episodes to converge: 7487.92\n",
      "Standard deviation of episodes: 6383.217821255985\n"
     ]
    }
   ],
   "source": [
    "all_value_funcs, episode_counts = td_zero()\n",
    "avg_value_func, avg_episodes, std_episodes, max_norm_diff_final = calculate_stats(all_value_funcs, episode_counts)\n",
    "print(\"******** TD(0) Results ********\")\n",
    "print(f\"Step size (alpha): {ALPHA}\")\n",
    "print(f\"Average value function:\\n{avg_value_func}\")\n",
    "print(f\"Max-norm difference from optimal value function: {max_norm_diff_final}\")\n",
    "print(f\"Average episodes to converge: {avg_episodes}\")\n",
    "print(f\"Standard deviation of episodes: {std_episodes}\")"
   ]
  }
 ],
 "metadata": {
  "kernelspec": {
   "display_name": "Python 3",
   "language": "python",
   "name": "python3"
  },
  "language_info": {
   "codemirror_mode": {
    "name": "ipython",
    "version": 3
   },
   "file_extension": ".py",
   "mimetype": "text/x-python",
   "name": "python",
   "nbconvert_exporter": "python",
   "pygments_lexer": "ipython3",
   "version": "3.11.9"
  }
 },
 "nbformat": 4,
 "nbformat_minor": 2
}
