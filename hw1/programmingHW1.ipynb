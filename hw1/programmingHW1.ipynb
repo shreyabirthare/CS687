{
 "cells": [
  {
   "cell_type": "code",
   "execution_count": 26,
   "metadata": {},
   "outputs": [],
   "source": [
    "import numpy as np\n",
    "import matplotlib.pyplot as plt"
   ]
  },
  {
   "cell_type": "code",
   "execution_count": 27,
   "metadata": {},
   "outputs": [],
   "source": [
    "state_mapping = {'s1': 0, 's2': 1, 's3': 2, 's4': 3, 's5': 4, 's6': 5, 's7': 6}\n",
    "action_mapping = {'a1': 0, 'a2': 1}\n",
    "num_states = len(state_mapping)\n",
    "num_actions = len(action_mapping)"
   ]
  },
  {
   "cell_type": "code",
   "execution_count": 28,
   "metadata": {},
   "outputs": [],
   "source": [
    "P = np.zeros((num_states, num_states, num_actions))\n",
    "R = np.zeros((num_states, num_actions))"
   ]
  },
  {
   "cell_type": "code",
   "execution_count": 29,
   "metadata": {},
   "outputs": [],
   "source": [
    "# Transition probabilities\n",
    "P[state_mapping['s1'], state_mapping['s4'], action_mapping['a1']] = 0.7\n",
    "P[state_mapping['s1'], state_mapping['s2'], action_mapping['a1']] = 0.3\n",
    "P[state_mapping['s1'], state_mapping['s4'], action_mapping['a2']] = 1.0\n",
    "\n",
    "P[state_mapping['s2'], state_mapping['s4'], action_mapping['a1']] = 0.4\n",
    "P[state_mapping['s2'], state_mapping['s7'], action_mapping['a1']] = 0.6\n",
    "P[state_mapping['s2'], state_mapping['s4'], action_mapping['a2']] = 0.9\n",
    "P[state_mapping['s2'], state_mapping['s7'], action_mapping['a2']] = 0.1\n",
    "\n",
    "P[state_mapping['s3'], state_mapping['s5'], action_mapping['a1']] = 1.0\n",
    "P[state_mapping['s3'], state_mapping['s3'], action_mapping['a2']] = 0.2\n",
    "P[state_mapping['s3'], state_mapping['s2'], action_mapping['a2']] = 0.8\n",
    "\n",
    "P[state_mapping['s4'], state_mapping['s6'], action_mapping['a1']] = 1.0\n",
    "P[state_mapping['s4'], state_mapping['s6'], action_mapping['a2']] = 1.0\n",
    "\n",
    "P[state_mapping['s5'], state_mapping['s6'], action_mapping['a1']] = 0.3\n",
    "P[state_mapping['s5'], state_mapping['s7'], action_mapping['a1']] = 0.7\n",
    "P[state_mapping['s5'], state_mapping['s7'], action_mapping['a2']] = 1.0"
   ]
  },
  {
   "cell_type": "code",
   "execution_count": 30,
   "metadata": {},
   "outputs": [],
   "source": [
    "# Rewards\n",
    "R[state_mapping['s1'], action_mapping['a1']] = 4\n",
    "R[state_mapping['s1'], action_mapping['a2']] = 3\n",
    "R[state_mapping['s2'], action_mapping['a1']] = 6\n",
    "R[state_mapping['s2'], action_mapping['a2']] = 1\n",
    "R[state_mapping['s3'], action_mapping['a1']] = -1\n",
    "R[state_mapping['s3'], action_mapping['a2']] = -10\n",
    "R[state_mapping['s4'], action_mapping['a1']] = 14\n",
    "R[state_mapping['s4'], action_mapping['a2']] = 8\n",
    "R[state_mapping['s5'], action_mapping['a1']] = -2\n",
    "R[state_mapping['s5'], action_mapping['a2']] = 2"
   ]
  },
  {
   "cell_type": "code",
   "execution_count": 31,
   "metadata": {},
   "outputs": [],
   "source": [
    "policy_1 = np.zeros((num_states, num_actions))\n",
    "policy_1[state_mapping['s1']] = [0.3, 0.7]\n",
    "policy_1[state_mapping['s2']] = [0.5, 0.5]\n",
    "policy_1[state_mapping['s3']] = [0.6, 0.4]\n",
    "policy_1[state_mapping['s4']] = [0.25, 0.75]\n",
    "policy_1[state_mapping['s5']] = [0.6, 0.4]"
   ]
  },
  {
   "cell_type": "code",
   "execution_count": 32,
   "metadata": {},
   "outputs": [],
   "source": [
    "def generate_all_policies(num_states, num_actions):\n",
    "    # Generate all combinations of action choices for non-terminal states\n",
    "    import itertools\n",
    "    return np.array(list(itertools.product(range(num_actions), repeat=num_states)))\n"
   ]
  },
  {
   "cell_type": "code",
   "execution_count": 33,
   "metadata": {},
   "outputs": [],
   "source": [
    "# Initial state distribution\n",
    "initial_state_distribution = np.array([0.1, 0.05, 0.85])"
   ]
  },
  {
   "cell_type": "code",
   "execution_count": 34,
   "metadata": {},
   "outputs": [],
   "source": [
    "def runEpisode(gamma, policy):\n",
    "    current_state = np.random.choice(3, p=initial_state_distribution)\n",
    "    total_return = 0\n",
    "    discount_factor = 1\n",
    "\n",
    "    for t in range(2):  # Only two timesteps: t=0 and t=1\n",
    "        # if terminal state then stop\n",
    "        if current_state in [state_mapping['s6'], state_mapping['s7']]:\n",
    "            break\n",
    "        action = np.random.choice(num_actions, p=policy[current_state])\n",
    "        reward = R[current_state, action]\n",
    "        total_return += reward * discount_factor\n",
    "        next_state = np.random.choice(num_states, p=P[current_state, :, action])\n",
    "        current_state = next_state\n",
    "        discount_factor *= gamma\n",
    "\n",
    "    return total_return"
   ]
  },
  {
   "cell_type": "code",
   "execution_count": 35,
   "metadata": {},
   "outputs": [],
   "source": [
    "def plotResults(results, title='Estimate of J(π) v/s Episodes'):\n",
    "    N = len(results)\n",
    "    plt.figure(figsize=(10, 7))\n",
    "    plt.plot(np.cumsum(results) / np.arange(1, N + 1))\n",
    "    plt.title(title)\n",
    "    plt.xlabel('Number of Episodes')\n",
    "    plt.ylabel('Estimated J(π)')\n",
    "    plt.grid(True)\n",
    "    plt.show()\n"
   ]
  },
  {
   "cell_type": "code",
   "execution_count": 36,
   "metadata": {},
   "outputs": [],
   "source": [
    "def calculateStats(results):\n",
    "    return np.mean(results), np.var(results)"
   ]
  },
  {
   "cell_type": "code",
   "execution_count": 37,
   "metadata": {},
   "outputs": [],
   "source": [
    "def findExpectation(gamma):\n",
    "    return (gamma*1.63995) - 3.405"
   ]
  },
  {
   "cell_type": "code",
   "execution_count": 38,
   "metadata": {},
   "outputs": [],
   "source": [
    "def displayResults(results, N):\n",
    "    average_return, variance_return = calculateStats(results)\n",
    "    print(f'Estimated J(π) after {N} episodes: {average_return:.2f}')\n",
    "    print(f'Variance of the returns: {variance_return:.2f}')"
   ]
  },
  {
   "cell_type": "code",
   "execution_count": 39,
   "metadata": {},
   "outputs": [],
   "source": [
    "def simulateEpisodes(N, gamma, policy):\n",
    "    results = [runEpisode(gamma, policy) for _ in range(N)]\n",
    "    return results\n"
   ]
  },
  {
   "cell_type": "code",
   "execution_count": 40,
   "metadata": {},
   "outputs": [
    {
     "data": {
      "image/png": "[encoded data removed]",
      "text/plain": [
       "<Figure size 1000x700 with 1 Axes>"
      ]
     },
     "metadata": {},
     "output_type": "display_data"
    },
    {
     "name": "stdout",
     "output_type": "stream",
     "text": [
      "Estimated J(π) after 150000 episodes: -1.96\n",
      "Variance of the returns: 46.04\n"
     ]
    }
   ],
   "source": [
    "##################### QUESTION 2(a), 2(b) #####################\n",
    "\n",
    "N = 150000\n",
    "gamma = 0.9\n",
    "results = simulateEpisodes(N, gamma, policy=policy_1)\n",
    "plotResults(results)\n",
    "displayResults(results, N)"
   ]
  },
  {
   "cell_type": "code",
   "execution_count": 41,
   "metadata": {},
   "outputs": [
    {
     "name": "stdout",
     "output_type": "stream",
     "text": [
      "Gamma:  0.25\n",
      "Expected J(π) using formula:  -2.9950124999999996\n",
      "Computed J(π) using code:  -3.0124566666666666\n",
      "Gamma:  0.5\n",
      "Expected J(π) using formula:  -2.585025\n",
      "Computed J(π) using code:  -2.58751\n",
      "Gamma:  0.75\n",
      "Expected J(π) using formula:  -2.1750374999999997\n",
      "Computed J(π) using code:  -2.19154\n",
      "Gamma:  0.99\n",
      "Expected J(π) using formula:  -1.7814495\n",
      "Computed J(π) using code:  -1.8093945333333332\n"
     ]
    }
   ],
   "source": [
    "##################### QUESTION 2(c) #####################\n",
    "N = 150000\n",
    "gammaValues = [0.25, 0.5, 0.75, 0.99]\n",
    "for gamma in gammaValues:\n",
    "    results = simulateEpisodes(N, gamma, policy=policy_1)\n",
    "    print(\"Gamma: \", gamma)\n",
    "    print(\"Expected J(π) using formula: \", findExpectation(gamma))\n",
    "    print(\"Computed J(π) using code: \", np.mean(results))\n",
    "    "
   ]
  },
  {
   "cell_type": "code",
   "execution_count": 42,
   "metadata": {},
   "outputs": [
    {
     "name": "stdout",
     "output_type": "stream",
     "text": [
      "Best Policy (binary representation for actions in non-terminal states):\n",
      "[[0. 1.]\n",
      " [0. 1.]\n",
      " [1. 0.]\n",
      " [1. 0.]\n",
      " [0. 1.]\n",
      " [0. 0.]\n",
      " [0. 0.]]\n",
      "Maximum Expected Reward: 2.2942642857142856\n"
     ]
    }
   ],
   "source": [
    "##################### QUESTION 2(d) #####################\n",
    "N = 350000\n",
    "gamma = 0.75\n",
    "policies = generate_all_policies(5, 2)  # Assuming 5 non-terminal states and 2 actions\n",
    "# print(policies)\n",
    "\n",
    "best_policy = None\n",
    "max_reward = float('-inf')\n",
    "rewards = []\n",
    "\n",
    "for policy_index, policy in enumerate(policies):\n",
    "    extended_policy = np.zeros((num_states, num_actions))\n",
    "    for i, action in enumerate(policy):\n",
    "        extended_policy[i] = [1, 0] if action == 0 else [0, 1]\n",
    "    \n",
    "    results = simulateEpisodes(N, gamma, policy=extended_policy)\n",
    "    average_reward = np.mean(results)\n",
    "    rewards.append(average_reward)\n",
    "    if average_reward > max_reward:\n",
    "        max_reward = average_reward\n",
    "        best_policy = extended_policy\n",
    "\n",
    "\n",
    "print(\"Best Policy (binary representation for actions in non-terminal states):\")\n",
    "print(best_policy)\n",
    "print(\"Maximum Expected Reward:\", max_reward)\n"
   ]
  }
 ],
 "metadata": {
  "kernelspec": {
   "display_name": "Python 3",
   "language": "python",
   "name": "python3"
  },
  "language_info": {
   "codemirror_mode": {
    "name": "ipython",
    "version": 3
   },
   "file_extension": ".py",
   "mimetype": "text/x-python",
   "name": "python",
   "nbconvert_exporter": "python",
   "pygments_lexer": "ipython3",
   "version": "3.11.9"
  }
 },
 "nbformat": 4,
 "nbformat_minor": 2
}
