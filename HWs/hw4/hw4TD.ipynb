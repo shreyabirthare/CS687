{
 "cells": [
  {
   "cell_type": "code",
   "execution_count": 3,
   "metadata": {},
   "outputs": [
    {
     "name": "stdout",
     "output_type": "stream",
     "text": [
      "V(s_1):  3.670751236399101\n",
      "V(s_2):  4.3300654794667945\n"
     ]
    }
   ],
   "source": [
    "ALPHA = 0.005\n",
    "GAMMA = 1\n",
    "N = 10000\n",
    "\n",
    "experiences = [(\"s2\",2,\"s1\"), (\"s1\",-1,\"s2\"), (\"s2\", 3, \"sinf\"), (\"s2\",2,\"s1\"), (\"s1\",-1,\"s2\"), (\"s1\",5,\"sinf\"), (\"s2\",2,\"s1\"), \\\n",
    "               (\"s1\",-1,\"s2\"), (\"s2\",3,\"sinf\"), (\"s1\",-1,\"s2\"), (\"s2\",3,\"sinf\")]\n",
    "v_s1 = 0 \n",
    "v_s2 = 0\n",
    "\n",
    "for i in range(N):\n",
    "    for start_state, reward, end_state in experiences:\n",
    "        if(start_state == 's1'):\n",
    "            v_s1 = v_s1 + ALPHA*(reward + GAMMA*(v_s2 if end_state == 's2' else 0) - v_s1)\n",
    "        elif(start_state == 's2'):\n",
    "            v_s2 = v_s2 + ALPHA*(reward + GAMMA*(v_s1 if end_state == 's1' else 0) - v_s2)\n",
    "\n",
    "print(\"V(s_1): \", v_s1)\n",
    "print(\"V(s_2): \", v_s2)"
   ]
  }
 ],
 "metadata": {
  "kernelspec": {
   "display_name": "Python 3",
   "language": "python",
   "name": "python3"
  },
  "language_info": {
   "codemirror_mode": {
    "name": "ipython",
    "version": 3
   },
   "file_extension": ".py",
   "mimetype": "text/x-python",
   "name": "python",
   "nbconvert_exporter": "python",
   "pygments_lexer": "ipython3",
   "version": "3.11.9"
  }
 },
 "nbformat": 4,
 "nbformat_minor": 2
}
